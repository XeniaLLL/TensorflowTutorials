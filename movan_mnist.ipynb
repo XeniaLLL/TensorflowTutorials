{
 "cells": [
  {
   "cell_type": "code",
   "execution_count": 4,
   "metadata": {},
   "outputs": [
    {
     "name": "stdout",
     "output_type": "stream",
     "text": [
      "WARNING:tensorflow:From <ipython-input-4-3025a0ef8d15>:3: read_data_sets (from tensorflow.contrib.learn.python.learn.datasets.mnist) is deprecated and will be removed in a future version.\n",
      "Instructions for updating:\n",
      "Please use alternatives such as official/mnist/dataset.py from tensorflow/models.\n",
      "WARNING:tensorflow:From E:\\anacondaSF\\envs\\tensorflow\\lib\\site-packages\\tensorflow\\contrib\\learn\\python\\learn\\datasets\\mnist.py:260: maybe_download (from tensorflow.contrib.learn.python.learn.datasets.base) is deprecated and will be removed in a future version.\n",
      "Instructions for updating:\n",
      "Please write your own downloading logic.\n",
      "WARNING:tensorflow:From E:\\anacondaSF\\envs\\tensorflow\\lib\\site-packages\\tensorflow\\contrib\\learn\\python\\learn\\datasets\\mnist.py:262: extract_images (from tensorflow.contrib.learn.python.learn.datasets.mnist) is deprecated and will be removed in a future version.\n",
      "Instructions for updating:\n",
      "Please use tf.data to implement this functionality.\n",
      "Extracting Mnist\\train-images-idx3-ubyte.gz\n",
      "WARNING:tensorflow:From E:\\anacondaSF\\envs\\tensorflow\\lib\\site-packages\\tensorflow\\contrib\\learn\\python\\learn\\datasets\\mnist.py:267: extract_labels (from tensorflow.contrib.learn.python.learn.datasets.mnist) is deprecated and will be removed in a future version.\n",
      "Instructions for updating:\n",
      "Please use tf.data to implement this functionality.\n",
      "Extracting Mnist\\train-labels-idx1-ubyte.gz\n",
      "WARNING:tensorflow:From E:\\anacondaSF\\envs\\tensorflow\\lib\\site-packages\\tensorflow\\contrib\\learn\\python\\learn\\datasets\\mnist.py:110: dense_to_one_hot (from tensorflow.contrib.learn.python.learn.datasets.mnist) is deprecated and will be removed in a future version.\n",
      "Instructions for updating:\n",
      "Please use tf.one_hot on tensors.\n",
      "Extracting Mnist\\t10k-images-idx3-ubyte.gz\n",
      "Extracting Mnist\\t10k-labels-idx1-ubyte.gz\n",
      "WARNING:tensorflow:From E:\\anacondaSF\\envs\\tensorflow\\lib\\site-packages\\tensorflow\\contrib\\learn\\python\\learn\\datasets\\mnist.py:290: DataSet.__init__ (from tensorflow.contrib.learn.python.learn.datasets.mnist) is deprecated and will be removed in a future version.\n",
      "Instructions for updating:\n",
      "Please use alternatives such as official/mnist/dataset.py from tensorflow/models.\n"
     ]
    }
   ],
   "source": [
    "import tensorflow as tf \n",
    "from tensorflow.examples.tutorials.mnist import input_data\n",
    "mnist=input_data.read_data_sets('Mnist',one_hot=True)"
   ]
  },
  {
   "cell_type": "code",
   "execution_count": 6,
   "metadata": {},
   "outputs": [
    {
     "name": "stdout",
     "output_type": "stream",
     "text": [
      "WARNING:tensorflow:From <ipython-input-6-1d0fd7b07027>:16: arg_max (from tensorflow.python.ops.gen_math_ops) is deprecated and will be removed in a future version.\n",
      "Instructions for updating:\n",
      "Use `argmax` instead\n",
      "0.0953\n",
      "0.6402\n",
      "0.7424\n",
      "0.7924\n",
      "0.8085\n",
      "0.8292\n",
      "0.8353\n",
      "0.8449\n",
      "0.8519\n",
      "0.8536\n",
      "0.858\n",
      "0.8608\n",
      "0.8666\n",
      "0.8675\n",
      "0.8658\n",
      "0.8738\n",
      "0.8752\n",
      "0.873\n",
      "0.8773\n",
      "0.8785\n",
      "0.8781\n",
      "0.8767\n",
      "0.878\n",
      "0.8832\n",
      "0.8833\n",
      "0.8869\n",
      "0.8862\n",
      "0.8838\n",
      "0.8877\n",
      "0.8871\n",
      "0.8909\n",
      "0.8887\n",
      "0.8903\n",
      "0.8879\n",
      "0.8907\n",
      "0.8914\n",
      "0.8928\n",
      "0.8901\n",
      "0.8933\n",
      "0.8917\n"
     ]
    }
   ],
   "source": [
    "def add_layer(inputs,in_size,out_size,activation_function=None):\n",
    "    weights=tf.Variable(tf.random_normal([in_size,out_size]))\n",
    "    biases=tf.Variable(tf.zeros([1,out_size])+0.1)\n",
    "    Wx_plus_b=tf.matmul(inputs,weights)+biases\n",
    "    #激活\n",
    "    if activation_function is None:\n",
    "        outputs=Wx_plus_b\n",
    "        \n",
    "    else:\n",
    "        outputs=activation_function(Wx_plus_b)\n",
    "    return outputs\n",
    "def compute_accuracy(v_xs,v_ys):\n",
    "    global prediciton\n",
    "    y_pre=sess.run(prediction,feed_dict={xs:v_xs })\n",
    "    #生成预测值，就是每个数字的概率\n",
    "    correct_prediction=tf.equal(tf.arg_max(y_pre,1),tf.arg_max(v_ys,1))\n",
    "    accuracy=tf.reduce_mean(tf.cast(correct_prediction,tf.float32))\n",
    "    result=sess.run(accuracy,feed_dict={xs:v_xs,ys:v_ys})\n",
    "    return result\n",
    "\n",
    "xs=tf.placeholder(tf.float32,[None,784])\n",
    "ys=tf.placeholder(tf.float32,[None,10])\n",
    "\n",
    "prediction=add_layer(xs,784,10,activation_function=tf.nn.softmax)\n",
    "\n",
    "cross_entropy=tf.reduce_mean(-tf.reduce_sum(ys*tf.log(prediction),reduction_indices=[1]))\n",
    "train_step=tf.train.GradientDescentOptimizer(0.5).minimize(cross_entropy)\n",
    "\n",
    "init=tf.global_variables_initializer()\n",
    "with tf.Session() as sess:\n",
    "    sess.run(init)\n",
    "    for i in range(2000):\n",
    "        batch_xs,batch_ys=mnist.train.next_batch(100)\n",
    "        sess.run(train_step,feed_dict={xs:batch_xs,ys:batch_ys})\n",
    "        \n",
    "        if i%50==0:\n",
    "           print(compute_accuracy(mnist.test.images,mnist.test.labels))\n",
    "        "
   ]
  }
 ],
 "metadata": {
  "kernelspec": {
   "display_name": "Python 3",
   "language": "python",
   "name": "python3"
  },
  "language_info": {
   "codemirror_mode": {
    "name": "ipython",
    "version": 3
   },
   "file_extension": ".py",
   "mimetype": "text/x-python",
   "name": "python",
   "nbconvert_exporter": "python",
   "pygments_lexer": "ipython3",
   "version": "3.6.6"
  }
 },
 "nbformat": 4,
 "nbformat_minor": 2
}
