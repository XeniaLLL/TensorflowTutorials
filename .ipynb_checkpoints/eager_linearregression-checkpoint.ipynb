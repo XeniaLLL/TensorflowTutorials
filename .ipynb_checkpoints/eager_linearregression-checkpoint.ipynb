{
 "cells": [
  {
   "cell_type": "code",
   "execution_count": null,
   "metadata": {},
   "outputs": [],
   "source": [
    "from __future__ import absolute_import,division,print_function\n",
    "import matplotlib.pyplot as plt\n",
    "import numpy as np\n",
    "import tensorflow as tf"
   ]
  },
  {
   "cell_type": "code",
   "execution_count": 3,
   "metadata": {},
   "outputs": [],
   "source": [
    "#set eager API\n",
    "tf.enable_eager_execution()\n",
    "tfe=tf.contrib.eager\n",
    "#不晓得这个怎么来的"
   ]
  },
  {
   "cell_type": "code",
   "execution_count": 4,
   "metadata": {},
   "outputs": [],
   "source": [
    "train_X = [3.3, 4.4, 5.5, 6.71, 6.93, 4.168, 9.779, 6.182, 7.59, 2.167,\n",
    "           7.042, 10.791, 5.313, 7.997, 5.654, 9.27, 3.1]\n",
    "train_Y = [1.7, 2.76, 2.09, 3.19, 1.694, 1.573, 3.366, 2.596, 2.53, 1.221,\n",
    "           2.827, 3.465, 1.65, 2.904, 2.42, 2.94, 1.3]\n",
    "n_samples=len(train_X)\n",
    "#parameters\n",
    "learning_rate=0.01\n",
    "display_step=100\n",
    "num_steps=1000"
   ]
  },
  {
   "cell_type": "code",
   "execution_count": 5,
   "metadata": {},
   "outputs": [],
   "source": [
    "W=tfe.Variable(np.random.randn())\n",
    "b=tfe.Variable(np.random.randn())\n",
    "#linear regerssion(Wx+b)\n",
    "def linear_regression(inputs):\n",
    "    return inputs*W+b\n",
    "#mean square error\n",
    "def mean_square_fn(model_fn,inputs,labels):\n",
    "    return tf.reduce_sum(tf.pow(model_fn(inputs)-labels,2))/(2*n_samples)"
   ]
  },
  {
   "cell_type": "code",
   "execution_count": 8,
   "metadata": {},
   "outputs": [],
   "source": [
    "#SGD Optimizer\n",
    "optimizer=tf.train.GradientDescentOptimizer(learning_rate=learning_rate)\n",
    "#Compute greaadients\n",
    "grad=tfe.implicit_gradients(mean_square_fn)"
   ]
  },
  {
   "cell_type": "code",
   "execution_count": 16,
   "metadata": {},
   "outputs": [
    {
     "name": "stdout",
     "output_type": "stream",
     "text": [
      "Initial cost=0.076929830 W= 0.25107047 b= 0.802803\n",
      "Epoch: 0001 cost= {:.9f} 0.07692983746528625 W= 0.25107116 b= 0.80279815\n",
      "Epoch: 0100 cost= {:.9f} 0.07692961394786835 W= 0.25113502 b= 0.8023454\n",
      "Epoch: 0200 cost= {:.9f} 0.07692945003509521 W= 0.25119215 b= 0.8019402\n",
      "Epoch: 0300 cost= {:.9f} 0.07692930102348328 W= 0.2512428 b= 0.80158126\n",
      "Epoch: 0400 cost= {:.9f} 0.07692921906709671 W= 0.25128764 b= 0.8012634\n",
      "Epoch: 0500 cost= {:.9f} 0.07692915201187134 W= 0.25132737 b= 0.8009818\n",
      "Epoch: 0600 cost= {:.9f} 0.07692907005548477 W= 0.2513625 b= 0.80073255\n",
      "Epoch: 0700 cost= {:.9f} 0.0769290179014206 W= 0.25139368 b= 0.8005117\n",
      "Epoch: 0800 cost= {:.9f} 0.0769289880990982 W= 0.25142127 b= 0.8003161\n",
      "Epoch: 0900 cost= {:.9f} 0.07692895829677582 W= 0.2514457 b= 0.8001428\n",
      "Epoch: 1000 cost= {:.9f} 0.07692892104387283 W= 0.25146735 b= 0.7999895\n"
     ]
    },
    {
     "data": {
      "image/png": "[encoded data removed]",
      "text/plain": [
       "<Figure size 432x288 with 1 Axes>"
      ]
     },
     "metadata": {},
     "output_type": "display_data"
    }
   ],
   "source": [
    "#initial cost, before optimizing\n",
    "print(\"Initial cost={:.9f}\".format(\n",
    "    mean_square_fn(linear_regression,train_X,train_Y)),\n",
    "     \"W=\",W.numpy(),\"b=\",b.numpy())\n",
    "\n",
    "#Training \n",
    "for step in range(num_steps):\n",
    "    optimizer.apply_gradients(grad(linear_regression,train_X,train_Y))\n",
    "    if(step+1)%display_step==0 or step ==0:\n",
    "        print(\"Epoch:\",'%04d'%(step+1),\"cost=\",\"{:.9f}\",format(mean_square_fn(linear_regression,train_X,train_Y)),\n",
    "              \"W=\",W.numpy(),\"b=\",b.numpy())\n",
    "        \n",
    "#graphic display\n",
    "plt.plot(train_X,train_Y,'ro',label='Origrinal data')\n",
    "plt.plot(train_X,np.array(W*train_X+b),label='Fiited line')\n",
    "plt.legend()\n",
    "plt.show()"
   ]
  },
  {
   "cell_type": "code",
   "execution_count": null,
   "metadata": {},
   "outputs": [],
   "source": []
  }
 ],
 "metadata": {
  "kernelspec": {
   "display_name": "Python 3",
   "language": "python",
   "name": "python3"
  },
  "language_info": {
   "codemirror_mode": {
    "name": "ipython",
    "version": 3
   },
   "file_extension": ".py",
   "mimetype": "text/x-python",
   "name": "python",
   "nbconvert_exporter": "python",
   "pygments_lexer": "ipython3",
   "version": "3.6.6"
  }
 },
 "nbformat": 4,
 "nbformat_minor": 2
}
