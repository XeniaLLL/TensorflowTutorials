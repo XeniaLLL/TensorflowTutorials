{
 "cells": [
  {
   "cell_type": "code",
   "execution_count": 21,
   "metadata": {},
   "outputs": [],
   "source": [
    "import tensorflow as tf\n",
    "import numpy \n",
    "import matplotlib.pyplot as plt\n",
    "rng=numpy.random"
   ]
  },
  {
   "cell_type": "code",
   "execution_count": 22,
   "metadata": {},
   "outputs": [],
   "source": [
    "#prarameters\n",
    "learning_rate=0.01\n",
    "training_epochs=1000\n",
    "display_step=50"
   ]
  },
  {
   "cell_type": "code",
   "execution_count": 24,
   "metadata": {},
   "outputs": [],
   "source": [
    "#trainning data\n",
    "train_X=numpy.asarray([3.3,4.4,5.5,6.71,6.93,4.168,9.779,6.182,7.59,2.167,7.042,10.792,5.313,7.997,5.654,9.27,3.1])\n",
    "train_Y=numpy.asarray([1.7,2.76,2.09,3.19,1.694,1.573,3.366,2.596,2.53,1.221,\n",
    "                         2.827,3.465,1.65,2.904,2.42,2.94,1.3])\n",
    "n_samples=train_X.shape[0]"
   ]
  },
  {
   "cell_type": "code",
   "execution_count": 25,
   "metadata": {},
   "outputs": [],
   "source": [
    "#tf Graph input\n",
    "X=tf.placeholder(\"float\")\n",
    "Y=tf.placeholder(\"float\")\n",
    "\n",
    "#set model weights\n",
    "W=tf.Variable(rng.randn(),name=\"weight\")\n",
    "b=tf.Variable(rng.randn(),name=\"bias\")"
   ]
  },
  {
   "cell_type": "code",
   "execution_count": 26,
   "metadata": {},
   "outputs": [],
   "source": [
    "#construct a linear model\n",
    "pred=tf.add(tf.multiply(X,W),b)"
   ]
  },
  {
   "cell_type": "code",
   "execution_count": 28,
   "metadata": {},
   "outputs": [],
   "source": [
    "cost=tf.reduce_sum(tf.pow(pred-Y,2))/(2*n_samples)\n",
    "#gradient descent\n",
    "optimizer=tf.train.GradientDescentOptimizer(learning_rate).minimize(cost)"
   ]
  },
  {
   "cell_type": "code",
   "execution_count": 29,
   "metadata": {},
   "outputs": [],
   "source": [
    "#initialize the variables (i.e. assign their default value)\n",
    "init =tf.global_variables_initializer()"
   ]
  },
  {
   "cell_type": "code",
   "execution_count": 31,
   "metadata": {
    "scrolled": true
   },
   "outputs": [
    {
     "name": "stdout",
     "output_type": "stream",
     "text": [
      "Epoch: 0050 cost= 0.077660300 W= 0.26425663 b= 0.69595164\n",
      "Epoch: 0100 cost= 0.077581882 W= 0.26338372 b= 0.70223117\n",
      "Epoch: 0150 cost= 0.077512614 W= 0.2625628 b= 0.7081367\n",
      "Epoch: 0200 cost= 0.077451363 W= 0.26179066 b= 0.7136916\n",
      "Epoch: 0250 cost= 0.077397279 W= 0.26106453 b= 0.71891576\n",
      "Epoch: 0300 cost= 0.077349484 W= 0.26038152 b= 0.7238295\n",
      "Epoch: 0350 cost= 0.077307269 W= 0.259739 b= 0.72845143\n",
      "Epoch: 0400 cost= 0.077269971 W= 0.25913486 b= 0.7327979\n",
      "Epoch: 0450 cost= 0.077237025 W= 0.25856656 b= 0.73688626\n",
      "Epoch: 0500 cost= 0.077207945 W= 0.258032 b= 0.7407319\n",
      "Epoch: 0550 cost= 0.077182248 W= 0.25752932 b= 0.7443482\n",
      "Epoch: 0600 cost= 0.077159561 W= 0.25705647 b= 0.74775034\n",
      "Epoch: 0650 cost= 0.077139549 W= 0.2566118 b= 0.7509489\n",
      "Epoch: 0700 cost= 0.077121876 W= 0.2561934 b= 0.75395864\n",
      "Epoch: 0750 cost= 0.077106282 W= 0.2558001 b= 0.756788\n",
      "Epoch: 0800 cost= 0.077092521 W= 0.25543007 b= 0.7594501\n",
      "Epoch: 0850 cost= 0.077080362 W= 0.25508213 b= 0.76195323\n",
      "Epoch: 0900 cost= 0.077069655 W= 0.25475493 b= 0.7643077\n",
      "Epoch: 0950 cost= 0.077060170 W= 0.25444707 b= 0.76652265\n",
      "Epoch: 1000 cost= 0.077051856 W= 0.25415745 b= 0.7686055\n",
      "OPtimization Finished!\n",
      "Training cost= 0.077051856 W= 0.25415745 b= 0.7686055 \n",
      "\n"
     ]
    },
    {
     "data": {
      "image/png": "[encoded data removed]",
      "text/plain": [
       "<Figure size 432x288 with 1 Axes>"
      ]
     },
     "metadata": {},
     "output_type": "display_data"
    }
   ],
   "source": [
    "#start trainning \n",
    "with tf.Session() as sess:\n",
    "    sess.run(init)\n",
    "    \n",
    "    #fit all trainning data\n",
    "    for epoch  in range(training_epochs):\n",
    "        for (x,y) in zip(train_X,train_Y):\n",
    "            sess.run(optimizer,feed_dict={X:x,Y:y})\n",
    "         #display logs per epoch step   \n",
    "        if (epoch+1)%display_step==0:\n",
    "            c=sess.run(cost,feed_dict={X:train_X,Y:train_Y})\n",
    "            print (\"Epoch:\",'%04d'%(epoch+1),\"cost=\",\"{:.9f}\".format(c),\"W=\",sess.run(W),\"b=\",sess.run(b))\n",
    "#              print \"Epoch:\", '%04d' % (epoch+1), \"cost=\", \"{:.9f}\".format(c), \\\n",
    "#                 \"W=\", sess.run(W), \"b=\", sess.run(b)\n",
    "    print (\"OPtimization Finished!\")\n",
    "    training_cost=sess.run(cost,feed_dict={X:train_X,Y:train_Y})\n",
    "    print (\"Training cost=\",training_cost,\"W=\",sess.run(W),\"b=\",sess.run(b),'\\n')\n",
    "    \n",
    "    #graphic display \n",
    "    plt.plot(train_X,train_Y,'ro',label='Original data')\n",
    "    plt.plot(train_X,sess.run(W)*train_X+sess.run(b),label='Fitted line')\n",
    "    plt.legend()\n",
    "    plt.show()"
   ]
  },
  {
   "cell_type": "code",
   "execution_count": null,
   "metadata": {},
   "outputs": [],
   "source": []
  },
  {
   "cell_type": "code",
   "execution_count": null,
   "metadata": {},
   "outputs": [],
   "source": []
  }
 ],
 "metadata": {
  "kernelspec": {
   "display_name": "Python 3",
   "language": "python",
   "name": "python3"
  },
  "language_info": {
   "codemirror_mode": {
    "name": "ipython",
    "version": 3
   },
   "file_extension": ".py",
   "mimetype": "text/x-python",
   "name": "python",
   "nbconvert_exporter": "python",
   "pygments_lexer": "ipython3",
   "version": "3.6.6"
  }
 },
 "nbformat": 4,
 "nbformat_minor": 2
}
