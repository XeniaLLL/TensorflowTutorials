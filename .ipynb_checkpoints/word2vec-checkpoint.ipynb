{
 "cells": [
  {
   "cell_type": "code",
   "execution_count": 5,
   "metadata": {},
   "outputs": [],
   "source": [
    "from __future__ import division,print_function,absolute_import \n",
    "import collections\n",
    "import os\n",
    "import random\n",
    "import urllib\n",
    "import zipfile\n",
    "import numpy as np\n",
    "import tensorflow as tf"
   ]
  },
  {
   "cell_type": "code",
   "execution_count": 6,
   "metadata": {},
   "outputs": [],
   "source": [
    "learning_rate=0.1\n",
    "bstch_size=128\n",
    "num_steps=1000000\n",
    "display_step=10000\n",
    "eval_step=200000#???\n",
    "\n",
    "eval_word=['five','of','going','hardware','american','britain']\n",
    "\n",
    "embedding_size=200\n",
    "max_vocabulary_size=50000\n",
    "min_occurrence=10\n",
    "skip_window=3\n",
    "num_skips=2\n",
    "num_sampled=64#负样本数目"
   ]
  },
  {
   "cell_type": "code",
   "execution_count": 7,
   "metadata": {},
   "outputs": [],
   "source": [
    "# url='http://mattmahoney.net/dc/text8.zip'\n",
    "# data_path='text8.zip'\n",
    "# if not os.path.exists(data_path):\n",
    "#     print(\"Downloading...\")\n",
    "#     filename, _ = urllib.urlretrieve(url, data_path)\n",
    "# #     filename,_=urllib.urlretrieve(url,data_path)\n",
    "#     print(\"Done\")\n",
    "# #解压\n",
    "# with zipfile.ZipFile(data_path) as f:\n",
    "#     text_words=f.read(f.namelist()[0]).lower().split()"
   ]
  },
  {
   "cell_type": "code",
   "execution_count": 11,
   "metadata": {},
   "outputs": [],
   "source": [
    "# Download a small chunk of Wikipedia articles collection\n",
    "url = 'http://mattmahoney.net/dc/text8.zip'\n",
    "data_path = 'text8.zip'\n",
    "if not os.path.exists(data_path):\n",
    "    print(\"Downloading the dataset... (It may take some time)\")\n",
    "    filename, _ = urllib.request.urlretrieve(url, data_path)\n",
    "    print(\"Done!\")\n",
    "# Unzip the dataset file. Text has already been processed\n"
   ]
  },
  {
   "cell_type": "code",
   "execution_count": null,
   "metadata": {},
   "outputs": [],
   "source": [
    "count=[('UNK',-1)]#只有一组数据\n",
    "count.extend(collections.Counter(text_words).most_common(max_vocabulary_size-1))\n",
    "\n",
    "for i in range(len(count)-1，-1)：\n",
    "    if count[i][j]<min_occurrence:\n",
    "        count.pop(i)\n",
    "    else:\n",
    "        break\n",
    "vocabulary_size=len(count)\n",
    "word2id=dict()\n",
    "for i, (word,_) in enumerate(count):\n",
    "    word2id[word]=i\n",
    "data=list()\n",
    "unk_conut=0\n",
    "\n",
    "for word in text_words:\n",
    "    index=word2id.get(word,0)\n",
    "    if index ==0:\n",
    "        unk_count+=1\n",
    "    data.append(index)\n",
    "count[0]=('UK',unk_count)\n"
   ]
  }
 ],
 "metadata": {
  "kernelspec": {
   "display_name": "Python 3",
   "language": "python",
   "name": "python3"
  },
  "language_info": {
   "codemirror_mode": {
    "name": "ipython",
    "version": 3
   },
   "file_extension": ".py",
   "mimetype": "text/x-python",
   "name": "python",
   "nbconvert_exporter": "python",
   "pygments_lexer": "ipython3",
   "version": "3.6.6"
  }
 },
 "nbformat": 4,
 "nbformat_minor": 2
}
