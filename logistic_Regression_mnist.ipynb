{
 "cells": [
  {
   "cell_type": "code",
   "execution_count": 2,
   "metadata": {
    "scrolled": true
   },
   "outputs": [
    {
     "name": "stdout",
     "output_type": "stream",
     "text": [
      "Extracting Mnist/train-images-idx3-ubyte.gz\n",
      "Extracting Mnist/train-labels-idx1-ubyte.gz\n",
      "Extracting Mnist/t10k-images-idx3-ubyte.gz\n",
      "Extracting Mnist/t10k-labels-idx1-ubyte.gz\n",
      "Download Done!\n"
     ]
    }
   ],
   "source": [
    "import tensorflow as tf\n",
    "from tensorflow.examples.tutorials.mnist import input_data\n",
    "# mnist=input_data.read_data_sets(\"/tmp/data/\",one_hot=True)\n",
    "mnist=input_data.read_data_sets(\"Mnist/\",one_hot=True)\n",
    "# print(mnist.length())\n",
    "print(\"Download Done!\")"
   ]
  },
  {
   "cell_type": "code",
   "execution_count": 5,
   "metadata": {},
   "outputs": [],
   "source": [
    "learning_rate=0.01\n",
    "training_epochs=25\n",
    "batch_size=100\n",
    "display_step=1\n",
    "\n",
    "# tf Graph input\n",
    "x=tf.placeholder(tf.float32,[None,784])#mnist data image of shape 784\n",
    "y=tf.placeholder(tf.float32,[None,10])#0-9 digits regression=>10 classes\n",
    "W=tf.Variable(tf.zeros([784,10]))\n",
    "b=tf.Variable(tf.zeros([10]))\n",
    "\n",
    "pred=tf.nn.softmax(tf.matmul(x,W)+b)\n",
    "cost=tf.reduce_mean(-tf.reduce_sum(y*tf.log(pred),reduction_indices=1))\n",
    "optimizer=tf.train.GradientDescentOptimizer(learning_rate).minimize(cost)\n",
    "init=tf.global_variables_initializer()"
   ]
  },
  {
   "cell_type": "code",
   "execution_count": 14,
   "metadata": {},
   "outputs": [
    {
     "name": "stdout",
     "output_type": "stream",
     "text": [
      "Epoch: 0001 cost= 1.183522075\n",
      "Epoch: 0002 cost= 0.665237641\n",
      "Epoch: 0003 cost= 0.552754223\n",
      "Epoch: 0004 cost= 0.498640805\n",
      "Epoch: 0005 cost= 0.465421877\n",
      "Epoch: 0006 cost= 0.442555182\n",
      "Epoch: 0007 cost= 0.425508155\n",
      "Epoch: 0008 cost= 0.412168615\n",
      "Epoch: 0009 cost= 0.401405376\n",
      "Epoch: 0010 cost= 0.392362233\n",
      "Epoch: 0011 cost= 0.384751667\n",
      "Epoch: 0012 cost= 0.378170095\n",
      "Epoch: 0013 cost= 0.372405418\n",
      "Epoch: 0014 cost= 0.367312572\n",
      "Epoch: 0015 cost= 0.362736854\n",
      "Epoch: 0016 cost= 0.358599640\n",
      "Epoch: 0017 cost= 0.354845424\n",
      "Epoch: 0018 cost= 0.351457565\n",
      "Epoch: 0019 cost= 0.348303004\n",
      "Epoch: 0020 cost= 0.345455921\n",
      "Epoch: 0021 cost= 0.342755286\n",
      "Epoch: 0022 cost= 0.340218037\n",
      "Epoch: 0023 cost= 0.337937576\n",
      "Epoch: 0024 cost= 0.335750833\n",
      "Epoch: 0025 cost= 0.333724641\n",
      "Optimizer Finished!\n",
      "Accuracy: 0.8896667\n"
     ]
    }
   ],
   "source": [
    "with tf.Session() as sess:\n",
    "    sess.run(init)\n",
    "    for epoch in range(training_epochs):\n",
    "        avg_cost=0.#???\n",
    "        total_batch=int(mnist.train.num_examples/batch_size)\n",
    "        #Loop over all betches\n",
    "        for i in range(total_batch):\n",
    "            batch_xs,batch_ys=mnist.train.next_batch(batch_size)\n",
    "            #fit training using batch data \n",
    "            _,c =sess.run ([optimizer,cost],feed_dict={x:batch_xs,y:batch_ys})\n",
    "            \n",
    "            avg_cost+=c/total_batch\n",
    "            \n",
    "            #Display logs per enough step\n",
    "        if (epoch+1)%display_step==0:\n",
    "            print(\"Epoch:\",'%04d'%(epoch+1),\"cost=\",\"{:.9f}\".format(avg_cost))\n",
    "    print(\"Optimizer Finished!\")\n",
    "    \n",
    "    correct_prediction=tf.equal(tf.argmax(pred,1),tf.argmax(y,1))\n",
    "    accuracy=tf.reduce_mean(tf.cast(correct_prediction,tf.float32))\n",
    "    print(\"Accuracy:\",accuracy.eval({x:mnist.test.images[:3000],y:mnist.test.labels[:3000]}))\n",
    "            "
   ]
  },
  {
   "cell_type": "code",
   "execution_count": 11,
   "metadata": {},
   "outputs": [
    {
     "name": "stdout",
     "output_type": "stream",
     "text": [
      "Epoch: 0001 cost= 1.183853881\n",
      "Epoch: 0002 cost= 0.665195683\n",
      "Epoch: 0003 cost= 0.552722395\n",
      "Epoch: 0004 cost= 0.498663636\n",
      "Epoch: 0005 cost= 0.465398580\n",
      "Epoch: 0006 cost= 0.442565701\n",
      "Epoch: 0007 cost= 0.425520555\n",
      "Epoch: 0008 cost= 0.412186592\n",
      "Epoch: 0009 cost= 0.401386158\n",
      "Epoch: 0010 cost= 0.392379426\n",
      "Epoch: 0011 cost= 0.384780021\n",
      "Epoch: 0012 cost= 0.378191054\n",
      "Epoch: 0013 cost= 0.372384922\n",
      "Epoch: 0014 cost= 0.367286449\n",
      "Epoch: 0015 cost= 0.362730058\n",
      "Epoch: 0016 cost= 0.358623269\n",
      "Epoch: 0017 cost= 0.354864791\n",
      "Epoch: 0018 cost= 0.351449039\n",
      "Epoch: 0019 cost= 0.348312909\n",
      "Epoch: 0020 cost= 0.345483995\n",
      "Epoch: 0021 cost= 0.342710902\n",
      "Epoch: 0022 cost= 0.340262837\n",
      "Epoch: 0023 cost= 0.337905225\n",
      "Epoch: 0024 cost= 0.335748279\n",
      "Epoch: 0025 cost= 0.333688043\n",
      "Optimization Finished!\n",
      "Accuracy: 0.8896667\n"
     ]
    }
   ],
   "source": [
    "\n",
    "# # Start training\n",
    "# with tf.Session() as sess:\n",
    "#     sess.run(init)\n",
    "\n",
    "#     # Training cycle\n",
    "#     for epoch in range(training_epochs):\n",
    "#         avg_cost = 0.\n",
    "#         total_batch = int(mnist.train.num_examples/batch_size)\n",
    "#         # Loop over all batches\n",
    "#         for i in range(total_batch):\n",
    "#             batch_xs, batch_ys = mnist.train.next_batch(batch_size)\n",
    "#             # Fit training using batch data\n",
    "#             _, c = sess.run([optimizer, cost], feed_dict={x: batch_xs,\n",
    "#                                                           y: batch_ys})\n",
    "#             # Compute average loss\n",
    "#             avg_cost += c / total_batch\n",
    "#         # Display logs per epoch step\n",
    "#         if (epoch+1) % display_step == 0:\n",
    "#             print (\"Epoch:\", '%04d' % (epoch+1), \"cost=\", \"{:.9f}\".format(avg_cost))\n",
    "\n",
    "#     print (\"Optimization Finished!\")\n",
    "\n",
    "#     # Test model\n",
    "#     correct_prediction = tf.equal(tf.argmax(pred, 1), tf.argmax(y, 1))\n",
    "#     # Calculate accuracy for 3000 examples\n",
    "#     accuracy = tf.reduce_mean(tf.cast(correct_prediction, tf.float32))\n",
    "#     print (\"Accuracy:\", accuracy.eval({x: mnist.test.images[:3000], y: mnist.test.labels[:3000]}))\n",
    "\n"
   ]
  }
 ],
 "metadata": {
  "kernelspec": {
   "display_name": "Python 3",
   "language": "python",
   "name": "python3"
  },
  "language_info": {
   "codemirror_mode": {
    "name": "ipython",
    "version": 3
   },
   "file_extension": ".py",
   "mimetype": "text/x-python",
   "name": "python",
   "nbconvert_exporter": "python",
   "pygments_lexer": "ipython3",
   "version": "3.6.6"
  }
 },
 "nbformat": 4,
 "nbformat_minor": 2
}
