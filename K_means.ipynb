{
 "cells": [
  {
   "cell_type": "code",
   "execution_count": null,
   "metadata": {},
   "outputs": [],
   "source": [
    "from __future__ import print_function\n",
    "import numpy as tf\n",
    "import tensorflow as tf\n",
    "from tensorflow.contrib.factionzation import KMeans\n",
    "\n",
    "import os\n",
    "os.environ[\"CUDA_VISIBLE_DEVICES\"]=\"\"\n"
   ]
  },
  {
   "cell_type": "code",
   "execution_count": null,
   "metadata": {},
   "outputs": [],
   "source": [
    "from tensorflow.examples.tutorials.mnist import input_data\n",
    "mnist=input_data.read_data_sets(\"Mnist\",one_hot=True)\n",
    "full_data_x=mnist.train.images"
   ]
  },
  {
   "cell_type": "code",
   "execution_count": null,
   "metadata": {},
   "outputs": [],
   "source": [
    "num_steps=50\n",
    "batch_size=1024\n",
    "k=25\n",
    "num_classes=10\n",
    "num_features=784\n",
    "\n",
    "X=tf.placeholder(tf.float32,shape=[None,num_features])\n",
    "Y=tf.plaseholder(tf.float32,shape=[None,num_classes])\n",
    "\n",
    "kmeans=KMeans(inputs=X,num_clusters=k,distance_metric='consine',use_mini_batch=True)"
   ]
  },
  {
   "cell_type": "code",
   "execution_count": null,
   "metadata": {},
   "outputs": [],
   "source": [
    "(all_scores,cluster_idx,scores,cluster_centers_initialized,\n",
    " cluster_centers_vars,init_op,train_op)=kmeans.training_graph()\n",
    "cluster_idx=cluster_idx[0]\n",
    "avg_distance=tf.reduce_mean(scores)\n",
    "\n",
    "init_vars=tf.global_variables_initializer()"
   ]
  },
  {
   "cell_type": "code",
   "execution_count": null,
   "metadata": {},
   "outputs": [],
   "source": [
    "sess=tf.Session()\n",
    "sess.run(init_vars,feed_dict={X:full_data_x})\n",
    "sess.run(init_op,feed_dixt={X:full_data_x})\n",
    "\n",
    "for i in range(1,num_steps+1):\n",
    "    _,d,idx=sess.run([train_op,avg_distance,cluster_idx],feed_dict={X:full_data_x})\n",
    "    \n",
    "    if i%10 ==0 or i==1:\n",
    "        print(\"Step %i, Avg distance: %f\" % (i,d))"
   ]
  },
  {
   "cell_type": "code",
   "execution_count": null,
   "metadata": {},
   "outputs": [],
   "source": [
    "counts=np.zeros(shape=(k,num_classes))\n",
    "\n",
    "for i in range(len(idx)):\n",
    "    counts[idx[i]]+=mnist.train,labels[i]\n",
    "#assign the most frequent label to the centroid\n",
    "labels_map=[np.argmax(c) for c oin counts]\n",
    "labels_map=tf.convert_to_tensor(labels_map)\n",
    "\n",
    "cluster_label=tf.nn.embedding_lookup(labels_map,cluster_idx)\n",
    "correct_prediction=tf.equal(cluster_label,tf.cast(tf.aargmax(Y,1),tf.int32))\n",
    "accuracy_op=tf.reduce_mean(tf.cast(correct_prediction,tf.float32))\n",
    "\n",
    "test_x,test_y=mnist.test.images,mnist.test.labels\n",
    "print(\"Test Accuracy:\",sess.run(accuracy_op,feed_dict={X:test_x,Y:test_y}))"
   ]
  }
 ],
 "metadata": {
  "kernelspec": {
   "display_name": "Python 3",
   "language": "python",
   "name": "python3"
  },
  "language_info": {
   "codemirror_mode": {
    "name": "ipython",
    "version": 3
   },
   "file_extension": ".py",
   "mimetype": "text/x-python",
   "name": "python",
   "nbconvert_exporter": "python",
   "pygments_lexer": "ipython3",
   "version": "3.6.6"
  }
 },
 "nbformat": 4,
 "nbformat_minor": 2
}
