{
 "cells": [
  {
   "cell_type": "code",
   "execution_count": 24,
   "metadata": {},
   "outputs": [],
   "source": [
    "from __future__ import division,print_function,absolute_import \n",
    "import collections\n",
    "import os\n",
    "import random\n",
    "import urllib\n",
    "import zipfile\n",
    "import numpy as np\n",
    "import tensorflow as tf"
   ]
  },
  {
   "cell_type": "code",
   "execution_count": 25,
   "metadata": {},
   "outputs": [],
   "source": [
    "learning_rate=0.1\n",
    "bstch_size=128\n",
    "num_steps=1000000\n",
    "display_step=10000\n",
    "eval_step=200000#???\n",
    "\n",
    "eval_words=['five','of','going','hardware','american','britain']\n",
    "\n",
    "embedding_size=200\n",
    "max_vocabulary_size=50000\n",
    "min_occurrence=10\n",
    "skip_window=3\n",
    "num_skips=2\n",
    "num_sampled=64#负样本数目"
   ]
  },
  {
   "cell_type": "code",
   "execution_count": null,
   "metadata": {},
   "outputs": [],
   "source": [
    "# url='http://mattmahoney.net/dc/text8.zip'\n",
    "# data_path='text8.zip'\n",
    "# if not os.path.exists(data_path):\n",
    "#     print(\"Downloading...\")\n",
    "#     filename, _ = urllib.urlretrieve(url, data_path)\n",
    "# #     filename,_=urllib.urlretrieve(url,data_path)\n",
    "#     print(\"Done\")\n",
    "# #解压\n",
    "# with zipfile.ZipFile(data_path) as f:\n",
    "#     text_words=f.read(f.namelist()[0]).lower().split()"
   ]
  },
  {
   "cell_type": "code",
   "execution_count": 26,
   "metadata": {},
   "outputs": [],
   "source": [
    "# Download a small chunk of Wikipedia articles collection\n",
    "url = 'http://mattmahoney.net/dc/text8.zip'\n",
    "data_path = 'text8.zip'\n",
    "if not os.path.exists(data_path):\n",
    "    print(\"Downloading the dataset... (It may take some time)\")\n",
    "    filename, _ = urllib.request.urlretrieve(url, data_path)\n",
    "    print(\"Done!\")\n",
    "# Unzip the dataset file. Text has already been processed\n",
    "with zipfile.ZipFile(data_path) as f:\n",
    "    text_words = f.read(f.namelist()[0]).lower().split()\n",
    "#text_words 是单词集合，一堆语料去掉段落和标点符号"
   ]
  },
  {
   "cell_type": "code",
   "execution_count": 29,
   "metadata": {},
   "outputs": [
    {
     "name": "stderr",
     "output_type": "stream",
     "text": [
      "IOPub data rate exceeded.\n",
      "The notebook server will temporarily stop sending output\n",
      "to the client in order to avoid crashing it.\n",
      "To change this limit, set the config variable\n",
      "`--NotebookApp.iopub_data_rate_limit`.\n",
      "\n",
      "Current values:\n",
      "NotebookApp.iopub_data_rate_limit=1000000.0 (bytes/sec)\n",
      "NotebookApp.rate_limit_window=3.0 (secs)\n",
      "\n"
     ]
    },
    {
     "name": "stdout",
     "output_type": "stream",
     "text": [
      "Words count: 17005207\n",
      "Unique words: 253854\n",
      "Vocabulary size: 50000\n",
      "Most common words: [('UNK', 418391), (b'the', 1061396), (b'of', 593677), (b'and', 416629), (b'one', 411764), (b'in', 372201), (b'a', 325873), (b'to', 316376), (b'zero', 264975), (b'nine', 250430)]\n"
     ]
    }
   ],
   "source": [
    "count=[('UNK',-1)]#只有一组数据\n",
    "#max_common_size确定了字典的容量，取text_words(是字典)语料里最常见的max_vocabulary_size个，\n",
    "count.extend(collections.Counter(text_words).most_common(max_vocabulary_size-1))\n",
    "print(count)\n",
    "for i in range(len(count)-1,-1):\n",
    "    if count[i][1]<min_occurrence:\n",
    "        count.pop(i)\n",
    "    else:\n",
    "        break\n",
    "vocabulary_size=len(count)\n",
    "\n",
    "#计算单词在count的位置\n",
    "word2id=dict()#先产生一个空字典\n",
    "\n",
    "for i, (word,_) in enumerate(count):\n",
    "    word2id[word]=i\n",
    "    print(i)\n",
    "    print(word2id)\n",
    "    \n",
    "#将单词转成单词的id\n",
    "data=list()\n",
    "unk_count= 0\n",
    "\n",
    "for word in text_words:\n",
    "    index = word2id.get(word,0)\n",
    "    if index ==0:\n",
    "        unk_count+=1\n",
    "    data.append(index)\n",
    "#更新低频词汇的数量\n",
    "count[0]=('UNK',unk_count)\n",
    "#id和单词的对应关系\n",
    "id2word=dict(zip(word2id.values(),word2id.keys()))\n",
    "\n",
    "print(\"Words count:\",len(text_words))\n",
    "print(\"Unique words:\",len(set(text_words)))\n",
    "print(\"Vocabulary size:\",vocabulary_size)\n",
    "print(\"Most common words:\",count[:10])"
   ]
  },
  {
   "cell_type": "code",
   "execution_count": 30,
   "metadata": {},
   "outputs": [],
   "source": [
    "data_index=0\n",
    "#生成 skip-germ模型\n",
    "def next_batch(batch_size,num_skips,skip_window):\n",
    "    global data_index\n",
    "    assert batch_size % num_skips==0\n",
    "    assert num_skips <=2 * skip_window \n",
    "    batch=np.ndarray(shape=(batch_size),dtype=np.int32)\n",
    "    labels=np.ndarray(shape=(batch_size),dtypw=np.int32)\n",
    "    #获取window 大小\n",
    "    span=2*skip_window +1\n",
    "    buffer=collections.deque(maxlen=span)\n",
    "    if data_index+span>len(data):\n",
    "        data_index=0\n",
    "    buffer.dextend(data[data_index:data_index+span])\n",
    "    data_index+=span\n",
    "    for i in range(batch_size/num_skips):\n",
    "        context_words=[w for w in range(span) if w!= skip_window]\n",
    "        words_to_use=random.sample(context_words,num_skips)\n",
    "        for j,context_words in enumerate(words_to_use):\n",
    "            batch[i*num_skips+j]=buffer[skip_window]\n",
    "            labels[i*num_skips+j,0]=buffer[context_word]\n",
    "        if data_index ==len(data):\n",
    "            buffer.extend(data[0:span])\n",
    "            data_index=span\n",
    "        else:\n",
    "            buffer.append(data_index)\n",
    "            data_index+=1\n",
    "    #通过回溯的方法，保证每个batch最后的不被略过\n",
    "    data_index=(data_index+len(data)-span)% len(data)\n",
    "    return batch,labels"
   ]
  },
  {
   "cell_type": "code",
   "execution_count": null,
   "metadata": {},
   "outputs": [],
   "source": []
  }
 ],
 "metadata": {
  "kernelspec": {
   "display_name": "Python 3",
   "language": "python",
   "name": "python3"
  },
  "language_info": {
   "codemirror_mode": {
    "name": "ipython",
    "version": 3
   },
   "file_extension": ".py",
   "mimetype": "text/x-python",
   "name": "python",
   "nbconvert_exporter": "python",
   "pygments_lexer": "ipython3",
   "version": "3.6.6"
  }
 },
 "nbformat": 4,
 "nbformat_minor": 2
}
