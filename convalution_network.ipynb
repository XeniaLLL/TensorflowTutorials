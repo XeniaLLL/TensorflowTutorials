{
 "cells": [
  {
   "cell_type": "code",
   "execution_count": 1,
   "metadata": {},
   "outputs": [
    {
     "name": "stdout",
     "output_type": "stream",
     "text": [
      "WARNING:tensorflow:From <ipython-input-1-4d088fd06239>:3: read_data_sets (from tensorflow.contrib.learn.python.learn.datasets.mnist) is deprecated and will be removed in a future version.\n",
      "Instructions for updating:\n",
      "Please use alternatives such as official/mnist/dataset.py from tensorflow/models.\n",
      "WARNING:tensorflow:From E:\\anacondaSF\\envs\\tensorflow\\lib\\site-packages\\tensorflow\\contrib\\learn\\python\\learn\\datasets\\mnist.py:260: maybe_download (from tensorflow.contrib.learn.python.learn.datasets.base) is deprecated and will be removed in a future version.\n",
      "Instructions for updating:\n",
      "Please write your own downloading logic.\n",
      "WARNING:tensorflow:From E:\\anacondaSF\\envs\\tensorflow\\lib\\site-packages\\tensorflow\\contrib\\learn\\python\\learn\\datasets\\mnist.py:262: extract_images (from tensorflow.contrib.learn.python.learn.datasets.mnist) is deprecated and will be removed in a future version.\n",
      "Instructions for updating:\n",
      "Please use tf.data to implement this functionality.\n",
      "Extracting Mnist\\train-images-idx3-ubyte.gz\n",
      "WARNING:tensorflow:From E:\\anacondaSF\\envs\\tensorflow\\lib\\site-packages\\tensorflow\\contrib\\learn\\python\\learn\\datasets\\mnist.py:267: extract_labels (from tensorflow.contrib.learn.python.learn.datasets.mnist) is deprecated and will be removed in a future version.\n",
      "Instructions for updating:\n",
      "Please use tf.data to implement this functionality.\n",
      "Extracting Mnist\\train-labels-idx1-ubyte.gz\n",
      "Extracting Mnist\\t10k-images-idx3-ubyte.gz\n",
      "Extracting Mnist\\t10k-labels-idx1-ubyte.gz\n",
      "WARNING:tensorflow:From E:\\anacondaSF\\envs\\tensorflow\\lib\\site-packages\\tensorflow\\contrib\\learn\\python\\learn\\datasets\\mnist.py:290: DataSet.__init__ (from tensorflow.contrib.learn.python.learn.datasets.mnist) is deprecated and will be removed in a future version.\n",
      "Instructions for updating:\n",
      "Please use alternatives such as official/mnist/dataset.py from tensorflow/models.\n"
     ]
    }
   ],
   "source": [
    "from __future__ import division,print_function,absolute_import\n",
    "from tensorflow.examples.tutorials.mnist import input_data\n",
    "mnist=input_data.read_data_sets(\"Mnist\",one_hot=False)\n",
    "\n",
    "import tensorflow as tf\n",
    "import matplotlib.pyplot as plt\n",
    "import numpy as np"
   ]
  },
  {
   "cell_type": "code",
   "execution_count": 2,
   "metadata": {},
   "outputs": [],
   "source": [
    "learning_rate=0.001\n",
    "num_steps=2000\n",
    "batch_size=128\n",
    "\n",
    "n_input=784\n",
    "n_classes=10\n",
    "dropout=0.25\n",
    "#每次丢弃0.25的神经元，通过组合，增加识别精确度"
   ]
  },
  {
   "cell_type": "code",
   "execution_count": 3,
   "metadata": {},
   "outputs": [],
   "source": [
    "def conv_net(x_dict,n_classes,dropout,reuse,is_training):\n",
    "    with tf.variable_scope('ConvNet',reuse=reuse):\n",
    "        x=x_dict['images']\n",
    "        x=tf.reshape(x,shape=[-1,28,28,1])\n",
    "        \n",
    "        conv1=tf.layers.conv2d(x,32,5,activation=tf.nn.relu)\n",
    "        #32 filters, ernel size=5\n",
    "        #max pooling stride size=2,kernel size=5\n",
    "        conv1=tf.layers.max_pooling2d(conv1,2,2)\n",
    "        conv2=tf.layers.conv2d(conv1,64,3,activation=tf.nn.relu)\n",
    "        conv2=tf.layers.max_pooling2d(conv2,2,2)\n",
    "        \n",
    "        #flatten the data to a 1-D vector for the fully connected layer\n",
    "        fc1=tf.contrib.layers.flatten(conv2)\n",
    "        #fully connected layer( in tf contrib folder for now)\n",
    "        fc1=tf.layers.dense(fc1,1024)\n",
    "        \n",
    "        fc1=tf.layers.dropout(fc1,rate=dropout,training=is_training)\n",
    "        \n",
    "        out=tf.layers.dense(fc1,n_classes)\n",
    "    return out\n",
    "    "
   ]
  },
  {
   "cell_type": "code",
   "execution_count": 4,
   "metadata": {},
   "outputs": [],
   "source": [
    "def model_fn(features,labels,mode):\n",
    "    #构造网络，因为dropout在训练和预测的时候有不一样的表现，因此构建两个权值一样的运算图\n",
    "    logits_train=conv_net(features,n_classes,dropout,reuse=False,is_training=True)\n",
    "    logits_test=conv_net(features,n_classes,dropout,reuse=True,is_training=False)\n",
    "    \n",
    "    pred_classes=tf.argmax(logits_test,axis=1)\n",
    "    pred_probas=tf.nn.softmax(logits_test)\n",
    "    \n",
    "    if mode==tf.estimator.ModeKeys.PREDICT:\n",
    "        return tf.estimator.EstimatorSpec(mode,predictions=pred_classes)\n",
    "    #define loss and optimizer:\n",
    "    loss_op=tf.reduce_mean(tf.nn.sparse_softmax_cross_entropy_with_logits(\n",
    "            logits=logits_train,labels=tf.cast(labels,dtype=tf.int32)\n",
    "    ))\n",
    "    train_op=tf.train.AdamOptimizer(learning_rate=learning_rate).\\\n",
    "                minimize(loss_op,global_step=tf.train.get_global_step())\n",
    "    acc_op=tf.metrics.accuracy(labels=labels,predictions=pred_classes)\n",
    "    estim_specs=tf.estimator.EstimatorSpec(\n",
    "        mode=mode,\n",
    "        predictions=pred_classes,\n",
    "        loss=loss_op,\n",
    "        train_op=train_op,\n",
    "        eval_metric_ops={'accuracy':acc_op}\n",
    "    )\n",
    "    \n",
    "    return estim_specs"
   ]
  },
  {
   "cell_type": "code",
   "execution_count": 5,
   "metadata": {},
   "outputs": [
    {
     "name": "stdout",
     "output_type": "stream",
     "text": [
      "INFO:tensorflow:Using default config.\n",
      "WARNING:tensorflow:Using temporary folder as model directory: C:\\Users\\xenia\\AppData\\Local\\Temp\\tmpeg_t37zz\n",
      "INFO:tensorflow:Using config: {'_model_dir': 'C:\\\\Users\\\\xenia\\\\AppData\\\\Local\\\\Temp\\\\tmpeg_t37zz', '_tf_random_seed': None, '_save_summary_steps': 100, '_save_checkpoints_steps': None, '_save_checkpoints_secs': 600, '_session_config': None, '_keep_checkpoint_max': 5, '_keep_checkpoint_every_n_hours': 10000, '_log_step_count_steps': 100, '_train_distribute': None, '_device_fn': None, '_service': None, '_cluster_spec': <tensorflow.python.training.server_lib.ClusterSpec object at 0x0000015E11ED6550>, '_task_type': 'worker', '_task_id': 0, '_global_id_in_cluster': 0, '_master': '', '_evaluation_master': '', '_is_chief': True, '_num_ps_replicas': 0, '_num_worker_replicas': 1}\n"
     ]
    }
   ],
   "source": [
    "model=tf.estimator.Estimator(model_fn)"
   ]
  },
  {
   "cell_type": "code",
   "execution_count": null,
   "metadata": {},
   "outputs": [
    {
     "name": "stdout",
     "output_type": "stream",
     "text": [
      "INFO:tensorflow:Calling model_fn.\n",
      "INFO:tensorflow:Done calling model_fn.\n",
      "INFO:tensorflow:Create CheckpointSaverHook.\n",
      "INFO:tensorflow:Graph was finalized.\n",
      "INFO:tensorflow:Running local_init_op.\n",
      "INFO:tensorflow:Done running local_init_op.\n",
      "INFO:tensorflow:Saving checkpoints for 0 into C:\\Users\\xenia\\AppData\\Local\\Temp\\tmpeg_t37zz\\model.ckpt.\n",
      "INFO:tensorflow:loss = 2.3111591, step = 1\n",
      "INFO:tensorflow:global_step/sec: 0.289803\n",
      "INFO:tensorflow:loss = 0.15135555, step = 101 (345.093 sec)\n",
      "INFO:tensorflow:Saving checkpoints for 165 into C:\\Users\\xenia\\AppData\\Local\\Temp\\tmpeg_t37zz\\model.ckpt.\n",
      "INFO:tensorflow:global_step/sec: 0.287769\n",
      "INFO:tensorflow:loss = 0.15789896, step = 201 (347.503 sec)\n",
      "INFO:tensorflow:global_step/sec: 0.291683\n",
      "INFO:tensorflow:loss = 0.03879494, step = 301 (342.846 sec)\n",
      "INFO:tensorflow:Saving checkpoints for 337 into C:\\Users\\xenia\\AppData\\Local\\Temp\\tmpeg_t37zz\\model.ckpt.\n"
     ]
    }
   ],
   "source": [
    "input_fn=tf.estimator.inputs.numpy_input_fn(\n",
    "x={'images':mnist.train.images},y=mnist.train.labels,\n",
    "    batch_size=batch_size,num_epochs=None,shuffle=True)\n",
    "model.train(input_fn,steps=num_steps)"
   ]
  },
  {
   "cell_type": "code",
   "execution_count": null,
   "metadata": {},
   "outputs": [],
   "source": [
    "input_fn=tf.estimator.inputs.numpy_input_fn(\n",
    "    x={'images':mnist.test.images},y=mnist.test.labels,\n",
    "    batch_size=batch_size,shuffle=False)\n",
    "model.evaluate(input_fn)"
   ]
  },
  {
   "cell_type": "code",
   "execution_count": null,
   "metadata": {},
   "outputs": [],
   "source": [
    "n_images=4\n",
    "test_images=mnist.test.images[:n_images]\n",
    "input_fn=tf.estimator.inputs.numpy_input_fn(\n",
    "    x={'images':test_images},shuffle=False)\n",
    "preds=list(model.predict(input_fn))\n",
    "\n",
    "for i in range(n_images):\n",
    "    plt.imshow(np.reshape(test_images[i],[28,28]),comp='gray')\n",
    "    plt.show()\n",
    "    print(\"model prediction: \",preds[i])"
   ]
  },
  {
   "cell_type": "code",
   "execution_count": null,
   "metadata": {},
   "outputs": [],
   "source": []
  }
 ],
 "metadata": {
  "kernelspec": {
   "display_name": "Python 3",
   "language": "python",
   "name": "python3"
  },
  "language_info": {
   "codemirror_mode": {
    "name": "ipython",
    "version": 3
   },
   "file_extension": ".py",
   "mimetype": "text/x-python",
   "name": "python",
   "nbconvert_exporter": "python",
   "pygments_lexer": "ipython3",
   "version": "3.6.6"
  }
 },
 "nbformat": 4,
 "nbformat_minor": 2
}
