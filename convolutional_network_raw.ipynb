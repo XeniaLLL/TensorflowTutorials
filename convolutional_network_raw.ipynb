{
 "cells": [
  {
   "cell_type": "code",
   "execution_count": 1,
   "metadata": {},
   "outputs": [
    {
     "name": "stdout",
     "output_type": "stream",
     "text": [
      "WARNING:tensorflow:From <ipython-input-1-b39d6688c985>:4: read_data_sets (from tensorflow.contrib.learn.python.learn.datasets.mnist) is deprecated and will be removed in a future version.\n",
      "Instructions for updating:\n",
      "Please use alternatives such as official/mnist/dataset.py from tensorflow/models.\n",
      "WARNING:tensorflow:From E:\\anacondaSF\\envs\\tensorflow\\lib\\site-packages\\tensorflow\\contrib\\learn\\python\\learn\\datasets\\mnist.py:260: maybe_download (from tensorflow.contrib.learn.python.learn.datasets.base) is deprecated and will be removed in a future version.\n",
      "Instructions for updating:\n",
      "Please write your own downloading logic.\n",
      "WARNING:tensorflow:From E:\\anacondaSF\\envs\\tensorflow\\lib\\site-packages\\tensorflow\\contrib\\learn\\python\\learn\\datasets\\mnist.py:262: extract_images (from tensorflow.contrib.learn.python.learn.datasets.mnist) is deprecated and will be removed in a future version.\n",
      "Instructions for updating:\n",
      "Please use tf.data to implement this functionality.\n",
      "Extracting Mnist\\train-images-idx3-ubyte.gz\n",
      "WARNING:tensorflow:From E:\\anacondaSF\\envs\\tensorflow\\lib\\site-packages\\tensorflow\\contrib\\learn\\python\\learn\\datasets\\mnist.py:267: extract_labels (from tensorflow.contrib.learn.python.learn.datasets.mnist) is deprecated and will be removed in a future version.\n",
      "Instructions for updating:\n",
      "Please use tf.data to implement this functionality.\n",
      "Extracting Mnist\\train-labels-idx1-ubyte.gz\n",
      "WARNING:tensorflow:From E:\\anacondaSF\\envs\\tensorflow\\lib\\site-packages\\tensorflow\\contrib\\learn\\python\\learn\\datasets\\mnist.py:110: dense_to_one_hot (from tensorflow.contrib.learn.python.learn.datasets.mnist) is deprecated and will be removed in a future version.\n",
      "Instructions for updating:\n",
      "Please use tf.one_hot on tensors.\n",
      "Extracting Mnist\\t10k-images-idx3-ubyte.gz\n",
      "Extracting Mnist\\t10k-labels-idx1-ubyte.gz\n",
      "WARNING:tensorflow:From E:\\anacondaSF\\envs\\tensorflow\\lib\\site-packages\\tensorflow\\contrib\\learn\\python\\learn\\datasets\\mnist.py:290: DataSet.__init__ (from tensorflow.contrib.learn.python.learn.datasets.mnist) is deprecated and will be removed in a future version.\n",
      "Instructions for updating:\n",
      "Please use alternatives such as official/mnist/dataset.py from tensorflow/models.\n"
     ]
    }
   ],
   "source": [
    "#refreence:\n",
    "#dropout:https://blog.csdn.net/stdcoutzyx/article/details/49022443\n",
    "\n",
    "from __future__ import division,print_function,absolute_import\n",
    "import tensorflow as tf\n",
    "from tensorflow.examples.tutorials.mnist import input_data\n",
    "mnist=input_data.read_data_sets(\"Mnist\",one_hot=True)"
   ]
  },
  {
   "cell_type": "code",
   "execution_count": 2,
   "metadata": {},
   "outputs": [],
   "source": [
    "learning_rate=0.1\n",
    "mini_batch=128\n",
    "num_steps=500\n",
    "display_step=10\n",
    "\n",
    "n_inputs=784\n",
    "n_classes=10\n",
    "dropout=0.75\n",
    "#probability to keep units\n",
    "\n",
    "X=tf.placeholder(tf.float32,[None,n_inputs])\n",
    "Y=tf.placeholder(tf.float32,[None,n_classes])\n",
    "keep_prob=tf.placeholder(tf.float32)#dropout keep probability\n",
    "\n"
   ]
  },
  {
   "cell_type": "code",
   "execution_count": 3,
   "metadata": {},
   "outputs": [],
   "source": [
    "#create some wrappers for simplifacation\n",
    "def conv2d(x,W,b,strides=1):\n",
    "    x=tf.nn.conv2d(x,W,strides=[1,strides,strides,1],padding='SAME')\n",
    "    y=tf.nn.bias_add(x,b)\n",
    "    return tf.nn.relu(y)\n",
    "\n",
    "def maxpool2d(x,k=2):\n",
    "    return tf.nn.max_pool(x,ksize=[1,k,k,1],strides=[1,k,k,1],padding='SAME')\n",
    "\n",
    "#create model\n",
    "def conv_net(x,weights,biases,dropout):\n",
    "    x=tf.reshape(x,shape=[-1,28,28,1])\n",
    "    #？？？？-1作为batch_size意思\n",
    "    #mnist原输入是一维的，重新塑形，转成图片的格式[高度 x 宽度 x 色彩通道]\n",
    "    #tensor input become 4-D[batch size, height,width,channel]\n",
    "    conv1=conv2d(x,weights['wc1'],biases['bc1'])\n",
    "    conv1=maxpool2d(conv1,k=2)\n",
    "    #？？？k=2意思，卷积核为2，但是为真么放在最大池化的位置\n",
    "    \n",
    "    conv2=conv2d(conv1,weights['wc2'],biases['bc2'])\n",
    "    conv2=maxpool2d(conv2,k=2)\n",
    "    \n",
    "    #fully connected layer\n",
    "    #reshape conv2 output to fit fully connected layer input\n",
    "    fc1=tf.reshape(conv2,[-1,weights['wd1'].get_shape().as_list()[0]])\n",
    "    fc1=tf.add(tf.matmul(fc1,weights['wd1']),biases['bd1'])\n",
    "    fc1=tf.nn.relu(fc1)\n",
    "    fc1=tf.nn.dropout(fc1,dropout)\n",
    "    \n",
    "    out=tf.add(tf.matmul(fc1,weights['out']),biases['out'])\n",
    "    return out"
   ]
  },
  {
   "cell_type": "code",
   "execution_count": 4,
   "metadata": {
    "scrolled": true
   },
   "outputs": [
    {
     "name": "stdout",
     "output_type": "stream",
     "text": [
      "WARNING:tensorflow:From <ipython-input-4-6e7b5a137578>:20: softmax_cross_entropy_with_logits (from tensorflow.python.ops.nn_ops) is deprecated and will be removed in a future version.\n",
      "Instructions for updating:\n",
      "\n",
      "Future major versions of TensorFlow will allow gradients to flow\n",
      "into the labels input on backprop by default.\n",
      "\n",
      "See @{tf.nn.softmax_cross_entropy_with_logits_v2}.\n",
      "\n"
     ]
    }
   ],
   "source": [
    "weights={\n",
    "    #5*5卷积\n",
    "    'wc1':tf.Variable(tf.random_normal([5,5,1,32])),\n",
    "    'wc2':tf.Variable(tf.random_normal([5,5,32,64])),\n",
    "    'wd1':tf.Variable(tf.random_normal([7*7*64,1024])),\n",
    "    #全连接\n",
    "    'out':tf.Variable(tf.random_normal([1024,n_classes]))\n",
    "}\n",
    "biases={\n",
    "    'bc1':tf.Variable(tf.random_normal([32])),\n",
    "     'bc2':tf.Variable(tf.random_normal([64])),\n",
    "     'bd1':tf.Variable(tf.random_normal([1024])),\n",
    "     'out':tf.Variable(tf.random_normal([n_classes]))\n",
    "}\n",
    "\n",
    "logits=conv_net(X,weights,biases,keep_prob)\n",
    "prediction=tf.nn.softmax(logits)\n",
    "\n",
    "loss_op=tf.reduce_mean(tf.nn.softmax_cross_entropy_with_logits(\n",
    "    logits=logits,labels=Y))\n",
    "optimizer=tf.train.AdamOptimizer(learning_rate=learning_rate)\n",
    "train_op=optimizer.minimize(loss_op)\n",
    "\n",
    "correct_pred=tf.equal(tf.argmax(prediction,1),tf.argmax(Y,1))\n",
    "accuracy=tf.reduce_mean(tf.cast(correct_pred,tf.float32))\n",
    "init=tf.global_variables_initializer()"
   ]
  },
  {
   "cell_type": "code",
   "execution_count": null,
   "metadata": {},
   "outputs": [],
   "source": [
    "with tf.Session() as sess:\n",
    "    print(\"In!!!\")\n",
    "    sess.run(init)\n",
    "    for step in range(1,num_steps+1):\n",
    "        batch_x,batch_y=mnist.train.next_batch(mini_batch)\n",
    "        sess.run(train_op,feed_dict={X:batch_x,Y:batch_y,keep_prob:dropout})\n",
    "    if step % display_step==0 or step==1:\n",
    "        loss,acc=sess.run([loss_op,accuracy],feed_dict={X:batch_x,\n",
    "                                                        Y:batch_y,\n",
    "                                                        keep_prob:1.0})\n",
    "        print(\"Step: \"+str(step)+\" minibatch loss= \"+\"{:.4f}\".format(loss)+\n",
    "              \" Training Accuracy= \"+\"{:.3f}\".format(acc))\n",
    "    print(\"Optimization finished!\")\n",
    "    \n",
    "    print(\"Testing Accuracy:\",sess.run(accuracy,fedd_dict={X:mnist.test.images[:256],\n",
    "                                                          Y:mnist.test.labels[:256],\n",
    "                                                          keep_prob:1.0}))"
   ]
  },
  {
   "cell_type": "code",
   "execution_count": null,
   "metadata": {},
   "outputs": [],
   "source": []
  },
  {
   "cell_type": "code",
   "execution_count": null,
   "metadata": {},
   "outputs": [],
   "source": []
  }
 ],
 "metadata": {
  "kernelspec": {
   "display_name": "Python 3",
   "language": "python",
   "name": "python3"
  }
 },
 "nbformat": 4,
 "nbformat_minor": 2
}
